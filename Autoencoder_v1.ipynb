{
 "cells": [
  {
   "cell_type": "markdown",
   "id": "814e983b-cd55-4efb-9a99-1e2e506c77d3",
   "metadata": {
    "jp-MarkdownHeadingCollapsed": true
   },
   "source": [
    "## Disclaimer\n",
    "Die Modelle sind in der Begleitarbeit erklärt, und die Funktionen ohnehin nur Nutztiere. Wenn du dir rum Gespiele mit Variablen und Keras befehlen sparen willst, kannst du das Trainieren der Modelle und das definieren sämtlicher Funktionen auch einfach überspringen, und direkt die in der Begleitarbeit erklärten Anwendungen stresstesten. Klicke dafür [hier](#Anwendungen)."
   ]
  },
  {
   "cell_type": "markdown",
   "id": "8746064a-ded7-4ea2-bf71-7ca7a9e28494",
   "metadata": {},
   "source": [
    "# Implementierung"
   ]
  },
  {
   "cell_type": "markdown",
   "id": "19770cf3-2230-4c4e-b98e-566797910acf",
   "metadata": {},
   "source": [
    "## Imports und Funktionsdefinitionen"
   ]
  },
  {
   "cell_type": "code",
   "execution_count": 8,
   "id": "345e65ed-e69c-4d48-852f-5824affaaec6",
   "metadata": {},
   "outputs": [],
   "source": [
    "# Import all librarys\n",
    "import tensorflow as tf\n",
    "from tensorflow import keras\n",
    "import matplotlib.pyplot as plt\n",
    "import numpy as np\n",
    "import cv2\n",
    "import random\n",
    "\n",
    "datasets = {\n",
    "    \"mnist\": tf.keras.datasets.mnist,\n",
    "    \"fashion_mnist\": tf.keras.datasets.fashion_mnist,\n",
    "}"
   ]
  },
  {
   "cell_type": "code",
   "execution_count": 7,
   "id": "74c3e42d-7d88-47de-b89d-5389f41347c2",
   "metadata": {},
   "outputs": [],
   "source": [
    "def reduce_dimension(model):\n",
    "    ae_out = model.predict([x_test[n].reshape(-1,28,28,1)])[0]\n",
    "\n",
    "    b = min(layer.units for layer in model.layers if isinstance(layer, keras.layers.Dense))\n",
    "    dense_layers = [(i, layer.units) for i, layer in enumerate(model.layers) if isinstance(layer, keras.layers.Dense)]\n",
    "    index_of_smallest = min(dense_layers, key=lambda x: x[1])[0]\n",
    "    \n",
    "    #Only looking at the Encoder Part\n",
    "    encoder_model = keras.Model(\n",
    "        inputs=model.input, \n",
    "        outputs=model.get_layer(index=index_of_smallest).output)  \n",
    "    \n",
    "    #Choosing the right encoded picture\n",
    "    encoded_images = encoder_model.predict(x_test)  \n",
    "    encoded_image = encoded_images[n].reshape(int(b**0.5), int(b**0.5))  \n",
    "    \n",
    "    print(f\"We reduced the Data to {100*(b/number_of_features):.2}% of its original size, while having those results\")\n",
    "    plt.tight_layout() \n",
    "\n",
    "    plt.imshow(x_test[n], cmap=\"grey\")\n",
    "    plt.title(\"Image\")\n",
    "    plt.show()\n",
    "    \n",
    "    plt.imshow(encoded_image, cmap='gray')\n",
    "    plt.title(\"Encoded Image\")\n",
    "    plt.show()\n",
    "    \n",
    "    plt.imshow(ae_out, cmap=\"grey\")\n",
    "    plt.title(\"Decoded Image\")\n",
    "    plt.show"
   ]
  },
  {
   "cell_type": "code",
   "execution_count": 236,
   "id": "e283d12e-c271-4d02-80a2-57e26357007e",
   "metadata": {},
   "outputs": [],
   "source": [
    "#Defining the Anomaly Detection \n",
    "def MSE(x, y):\n",
    "    #y = ae_out(x)\n",
    "    sum = 0\n",
    "    for i in range(0,28):\n",
    "        for j in range(0,28):\n",
    "            sum += (x[i,j] - ae_out[i,j,0])**2\n",
    "    return(sum/number_of_features)\n",
    "\n",
    "def detect_anomaly(x_test, modell):\n",
    "    y_predict = modell.predict(x_test.reshape(-1, 28, 28, 1))\n",
    "    x_test_list = [x_test[i] for i in range(x_test.shape[0])]\n",
    "    y_predict_list = [ y_predict[i] for i in range(y_predict.shape[0]) ]\n",
    "\n",
    "    RE = 0\n",
    "    RE_ind = 0\n",
    "\n",
    "    for i in range(len(x_test_list)):\n",
    "        if MSE(x_test_list[i],y_predict_list[i]) > RE:\n",
    "            RE = MSE(x_test_list[i],y_predict_list[i])\n",
    "            RE_ind = i\n",
    "\n",
    "    return [RE, RE_ind]"
   ]
  },
  {
   "cell_type": "code",
   "execution_count": 329,
   "id": "df6968da-2b61-4566-8096-6e9d717b9f85",
   "metadata": {},
   "outputs": [],
   "source": [
    "def find_standout(modell):\n",
    "    [RE, RE_ind] = detect_anomaly(x_test, modell)\n",
    "\n",
    "    print(f\"Our Autoencoder thinks, the test tata at index {RE_ind} stand out. It looks like this\")\n",
    "    plt.imshow(x_test[RE_ind], cmap=\"grey\")\n",
    "    plt.title(\"The Standout\")\n",
    "    plt.show()\n",
    "\n",
    "    plotme = modell.predict([x_test[RE_ind].reshape(-1,28,28,1)])[0]\n",
    "    \n",
    "    print(f\"It has a the highest reconstructionerrror with RE={RE} and the reconstruction looks like this:\")\n",
    "    plt.imshow(plotme, cmap=\"grey\")\n",
    "    plt.title(\"It's Reconstruct\")\n",
    "    plt.show()"
   ]
  },
  {
   "cell_type": "code",
   "execution_count": 254,
   "id": "26b147c8-daf5-429c-845f-24f6dc1e3bdb",
   "metadata": {},
   "outputs": [],
   "source": [
    "#Defining Noise Function\n",
    "\n",
    "def add_noise(img, random_chance):\n",
    "    noisy = []\n",
    "    for row in img:\n",
    "        new_row = []\n",
    "        for pix in row:\n",
    "            if random.choice(range(100)) <= random_chance:\n",
    "                new_val = random.uniform(0,1)\n",
    "                new_row.append(new_val)\n",
    "            else:\n",
    "                new_row.append(pix)\n",
    "        noisy.append(new_row)\n",
    "    return np.array(noisy)\n"
   ]
  },
  {
   "cell_type": "code",
   "execution_count": 322,
   "id": "25ea38a0-01f6-4b0f-baf1-4b34f811c956",
   "metadata": {},
   "outputs": [],
   "source": [
    "def reduce_noise(noise_ratio, modell):\n",
    "    #Computing Noise sutff\n",
    "    noisy = add_noise(x_test[n], noise_ratio * 100)\n",
    "    noisy_out = modell.predict([noisy.reshape(-1,28,28,1)])[0]\n",
    "\n",
    "    #Printing the Results\n",
    "    print(f\"Image with Noise ({noise_ratio * 100} % Noise Ratio)\")\n",
    "    plt.imshow(noisy, cmap=\"grey\")\n",
    "    plt.title(\"Noisy Image\")\n",
    "    plt.show()\n",
    "    \n",
    "    plt.imshow(noisy_out, cmap=\"grey\")\n",
    "    plt.title(\"Reconstruction from noisy image\")\n",
    "    plt.show()"
   ]
  },
  {
   "cell_type": "code",
   "execution_count": 240,
   "id": "81bd1c57-e6a3-49f7-840f-488dd76d869b",
   "metadata": {},
   "outputs": [],
   "source": [
    "def test_anomaly(wrong_data, coruption_index, modell):\n",
    "    print(modell)\n",
    "    # Testing if datasets are different\n",
    "    if data == wrong_data:\n",
    "        print(\"Data and Wrong data have to be different\")\n",
    "    \n",
    "    #Adding the anomaly\n",
    "    (x_trainf, y_trainf), (x_testf,y_testf) = datasets[wrong_data].load_data()\n",
    "    x_corupted = x_test.copy()\n",
    "    x_corupted[coruption_index] = x_testf[coruption_index]\n",
    "    \n",
    "    #Doing the Computation\n",
    "    [RE, RE_ind] = detect_anomaly(x_corupted, modell)\n",
    "    \n",
    "    dec_pred_corupt = modell.predict([x_corupted[RE_ind].reshape(-1,28,28,1)])[0]\n",
    "    \n",
    "    RE_anomaly = MSE(x_corupted[coruption_index], modell.predict([x_corupted[coruption_index].reshape(-1,28,28,1)])[0])\n",
    "\n",
    "    dec_corupt = modell.predict([x_corupted[coruption_index].reshape(-1,28,28,1)])[0]\n",
    "    \n",
    "    #Printing the Results\n",
    "    \n",
    "    print(f\"Our Autoencoder thinks, that the anomaly seems to be at Index {RE_ind} looks like this:\")\n",
    "    plt.imshow(x_corupted[RE_ind], cmap=\"grey\")\n",
    "    plt.show()\n",
    "    \n",
    "    print(f\"It has a the highest reconstructionerrror with RE={round(RE)} and the reconstruction(attempt) looks like this:\")\n",
    "    plt.imshow(dec_pred_corupt, cmap=\"grey\")\n",
    "    plt.show()\n",
    "\n",
    "\n",
    "    if RE_ind != coruption_index:\n",
    "        print(\"BUT HE IS WRONG\")\n",
    "        \n",
    "        print(f\"The actual anomyly is at index {coruption_index} and looks like this\")\n",
    "        plt.imshow(x_corupted[coruption_index], cmap=\"grey\")\n",
    "        plt.show()\n",
    "        \n",
    "        print(f\"It only has an RE of {round(RE_anomaly)} and its reconstruction looks like this\")\n",
    "        plt.imshow(dec_corupt, cmap=\"grey\")\n",
    "        plt.show()\n",
    "    else:\n",
    "        print(\"AND HE IS RIGHT!\")\n",
    "    \n",
    "    plt.tight_layout() "
   ]
  },
  {
   "cell_type": "markdown",
   "id": "5653b434-821d-4247-9ba4-06910142a423",
   "metadata": {},
   "source": [
    "## Trainieren der Modelle"
   ]
  },
  {
   "cell_type": "code",
   "execution_count": 241,
   "id": "cae5b7ec-89db-4f09-a9f1-d03039580c6b",
   "metadata": {},
   "outputs": [],
   "source": [
    "# Modulare Parameter\n",
    "\n",
    "#Training des Modells\n",
    "acti = \"sigmoid\" #Aktivierungsfunktion\n",
    "lossi = \"mse\" #Loss Funktion\n",
    "n_epochs = 3\n",
    "n_batch_size = 32\n",
    "data = \"fashion_mnist\" "
   ]
  },
  {
   "cell_type": "code",
   "execution_count": 242,
   "id": "205a79b4-a2d3-4396-82f0-0ef8e1f7b6c9",
   "metadata": {},
   "outputs": [
    {
     "name": "stdout",
     "output_type": "stream",
     "text": [
      "numer of features = 784\n"
     ]
    }
   ],
   "source": [
    "# Importing Data and looking at it\n",
    "(x_train, y_train), (x_test,y_test) = datasets[data].load_data()\n",
    "number_of_features = x_train[1].shape[1]*x_train[1].shape[1]\n",
    "print(f\"numer of features = {number_of_features}\")\n",
    "\n",
    "\n",
    "#Normalizing the Dataset: All vectors now live in the [0,1]^784 \"space\"\n",
    "x_train = x_train/255.0 \n",
    "x_test = x_test/255.0"
   ]
  },
  {
   "cell_type": "code",
   "execution_count": 243,
   "id": "9982914a-e708-4d3a-b2be-1c7707a8544b",
   "metadata": {},
   "outputs": [
    {
     "name": "stdout",
     "output_type": "stream",
     "text": [
      "Model: \"autoencoder\"\n",
      "_________________________________________________________________\n",
      " Layer (type)                Output Shape              Param #   \n",
      "=================================================================\n",
      " flatten_23 (Flatten)        (None, 784)               0         \n",
      "                                                                 \n",
      " dense_73 (Dense)            (None, 64)                50240     \n",
      "                                                                 \n",
      " dense_74 (Dense)            (None, 784)               50960     \n",
      "                                                                 \n",
      " reshape_22 (Reshape)        (None, 28, 28, 1)         0         \n",
      "                                                                 \n",
      "=================================================================\n",
      "Total params: 101,200\n",
      "Trainable params: 101,200\n",
      "Non-trainable params: 0\n",
      "_________________________________________________________________\n",
      "Epoch 1/3\n",
      "1688/1688 [==============================] - 39s 23ms/step - loss: 0.0219 - val_loss: 0.0153\n",
      "Epoch 2/3\n",
      "1688/1688 [==============================] - 39s 23ms/step - loss: 0.0147 - val_loss: 0.0144\n",
      "Epoch 3/3\n",
      "1688/1688 [==============================] - 43s 25ms/step - loss: 0.0138 - val_loss: 0.0133\n"
     ]
    },
    {
     "data": {
      "text/plain": [
       "<keras.callbacks.History at 0x7fdd10540520>"
      ]
     },
     "execution_count": 243,
     "metadata": {},
     "output_type": "execute_result"
    }
   ],
   "source": [
    "#Defining Model 1\n",
    "\n",
    "autoencoder1 = keras.Sequential(name=\"autoencoder1\")\n",
    "autoencoder1.add(keras.Input(shape=(28,28,1), name=\"img\"))\n",
    "autoencoder1.add(keras.layers.Flatten())\n",
    "autoencoder1.add(keras.layers.Dense(64, activation=acti))\n",
    "autoencoder1.add(keras.layers.Dense(784, activation=acti))\n",
    "autoencoder1.add(keras.layers.Reshape((28,28,1)))\n",
    "\n",
    "opt = keras.optimizers.Adam(learning_rate=0.01)\n",
    "\n",
    "autoencoder.summary()\n",
    "\n",
    "autoencoder1.compile(opt, loss= lossi)\n",
    "\n",
    "# Training Model 1\n",
    "autoencoder1.fit(x_train, x_train, epochs=n_epochs, batch_size=n_batch_size, validation_split=0.1) "
   ]
  },
  {
   "cell_type": "code",
   "execution_count": 244,
   "id": "a0dc5a34-b183-4086-a8f5-d493d59e82e0",
   "metadata": {
    "scrolled": true
   },
   "outputs": [
    {
     "name": "stdout",
     "output_type": "stream",
     "text": [
      "Model: \"autoencoder2\"\n",
      "_________________________________________________________________\n",
      " Layer (type)                Output Shape              Param #   \n",
      "=================================================================\n",
      " flatten_29 (Flatten)        (None, 784)               0         \n",
      "                                                                 \n",
      " dense_95 (Dense)            (None, 64)                50240     \n",
      "                                                                 \n",
      " dense_96 (Dense)            (None, 16)                1040      \n",
      "                                                                 \n",
      " dense_97 (Dense)            (None, 64)                1088      \n",
      "                                                                 \n",
      " dense_98 (Dense)            (None, 784)               50960     \n",
      "                                                                 \n",
      " reshape_28 (Reshape)        (None, 28, 28, 1)         0         \n",
      "                                                                 \n",
      "=================================================================\n",
      "Total params: 103,328\n",
      "Trainable params: 103,328\n",
      "Non-trainable params: 0\n",
      "_________________________________________________________________\n",
      "Epoch 1/5\n",
      "1688/1688 [==============================] - 42s 24ms/step - loss: 0.0354 - val_loss: 0.0249\n",
      "Epoch 2/5\n",
      "1688/1688 [==============================] - 43s 25ms/step - loss: 0.0229 - val_loss: 0.0219\n",
      "Epoch 3/5\n",
      "1688/1688 [==============================] - 36s 21ms/step - loss: 0.0209 - val_loss: 0.0201\n",
      "Epoch 4/5\n",
      "1688/1688 [==============================] - 23s 14ms/step - loss: 0.0198 - val_loss: 0.0197\n",
      "Epoch 5/5\n",
      "1688/1688 [==============================] - 28s 17ms/step - loss: 0.0191 - val_loss: 0.0192\n"
     ]
    },
    {
     "data": {
      "text/plain": [
       "<keras.callbacks.History at 0x7fdd1061d940>"
      ]
     },
     "execution_count": 244,
     "metadata": {},
     "output_type": "execute_result"
    }
   ],
   "source": [
    "#Defining Model 2\n",
    "\n",
    "autoencoder2 = keras.Sequential(name=\"autoencoder2\")\n",
    "autoencoder2.add(keras.Input(shape=(28,28,1), name=\"img\"))\n",
    "autoencoder2.add(keras.layers.Flatten())\n",
    "autoencoder2.add(keras.layers.Dense(64, activation=acti))\n",
    "autoencoder2.add(keras.layers.Dense(16, activation=acti))\n",
    "autoencoder2.add(keras.layers.Dense(64, activation=acti))\n",
    "autoencoder2.add(keras.layers.Dense(784, activation=acti))\n",
    "autoencoder2.add(keras.layers.Reshape((28,28,1)))\n",
    "\n",
    "opt = keras.optimizers.Adam(learning_rate=0.01)\n",
    "\n",
    "autoencoder2.summary()\n",
    "\n",
    "autoencoder2.compile(opt, loss= lossi)\n",
    "\n",
    "# Training Model 2\n",
    "autoencoder2.fit(x_train, x_train, epochs=n_epochs + 2, batch_size=n_batch_size, validation_split=0.1) "
   ]
  },
  {
   "cell_type": "code",
   "execution_count": 292,
   "id": "116e5c9d-5536-4a7d-8e99-745065bc4c35",
   "metadata": {},
   "outputs": [
    {
     "name": "stdout",
     "output_type": "stream",
     "text": [
      "Model: \"autoencoder3\"\n",
      "_________________________________________________________________\n",
      " Layer (type)                Output Shape              Param #   \n",
      "=================================================================\n",
      " flatten_33 (Flatten)        (None, 784)               0         \n",
      "                                                                 \n",
      " dense_119 (Dense)           (None, 64)                50240     \n",
      "                                                                 \n",
      " dense_120 (Dense)           (None, 16)                1040      \n",
      "                                                                 \n",
      " dense_121 (Dense)           (None, 4)                 68        \n",
      "                                                                 \n",
      " dense_122 (Dense)           (None, 16)                80        \n",
      "                                                                 \n",
      " dense_123 (Dense)           (None, 64)                1088      \n",
      "                                                                 \n",
      " dense_124 (Dense)           (None, 784)               50960     \n",
      "                                                                 \n",
      " reshape_32 (Reshape)        (None, 28, 28, 1)         0         \n",
      "                                                                 \n",
      "=================================================================\n",
      "Total params: 103,476\n",
      "Trainable params: 103,476\n",
      "Non-trainable params: 0\n",
      "_________________________________________________________________\n",
      "Epoch 1/3\n",
      "1688/1688 [==============================] - 63s 37ms/step - loss: 0.0523 - val_loss: 0.0365\n",
      "Epoch 2/3\n",
      "1688/1688 [==============================] - 35s 21ms/step - loss: 0.0343 - val_loss: 0.0331\n",
      "Epoch 3/3\n",
      "1688/1688 [==============================] - 48s 28ms/step - loss: 0.0313 - val_loss: 0.0301\n"
     ]
    },
    {
     "data": {
      "text/plain": [
       "<keras.callbacks.History at 0x7fdd10f611f0>"
      ]
     },
     "execution_count": 292,
     "metadata": {},
     "output_type": "execute_result"
    }
   ],
   "source": [
    "#Defining Model 3\n",
    "\n",
    "autoencoder3 = keras.Sequential(name=\"autoencoder3\")\n",
    "autoencoder3.add(keras.Input(shape=(28,28,1), name=\"img\"))\n",
    "autoencoder3.add(keras.layers.Flatten())\n",
    "autoencoder3.add(keras.layers.Dense(64, activation=acti))\n",
    "autoencoder3.add(keras.layers.Dense(16, activation=acti))\n",
    "autoencoder3.add(keras.layers.Dense(4,activation=acti))\n",
    "autoencoder3.add(keras.layers.Dense(16,activation=acti))\n",
    "autoencoder3.add(keras.layers.Dense(64, activation=acti))\n",
    "autoencoder3.add(keras.layers.Dense(784, activation=acti))\n",
    "autoencoder3.add(keras.layers.Reshape((28,28,1)))\n",
    "\n",
    "opt = keras.optimizers.Adam(learning_rate=0.01)\n",
    "\n",
    "autoencoder3.summary()\n",
    "\n",
    "autoencoder3.compile(opt, loss= lossi)\n",
    "\n",
    "# Training Model 3\n",
    "autoencoder3.fit(x_train, x_train, epochs=n_epochs , batch_size=n_batch_size, validation_split=0.1) "
   ]
  },
  {
   "cell_type": "markdown",
   "id": "d91e6df5-4653-40fd-932c-64935896d499",
   "metadata": {},
   "source": [
    "# Anwendungen"
   ]
  },
  {
   "cell_type": "markdown",
   "id": "64cffda3-8c80-4924-b3d8-a6cf912f282d",
   "metadata": {},
   "source": [
    "### Dimensionsreduktion"
   ]
  },
  {
   "cell_type": "code",
   "execution_count": 320,
   "id": "ffc6930c-c384-45c7-8248-299905c0a8f3",
   "metadata": {},
   "outputs": [
    {
     "name": "stdout",
     "output_type": "stream",
     "text": [
      "1/1 [==============================] - 0s 17ms/step\n",
      "313/313 [==============================] - 6s 19ms/step\n",
      "We reduced the Data to 0.51% of its original size, while having those results\n"
     ]
    },
    {
     "data": {
      "image/png": "[encoded data removed]",
      "text/plain": [
       "<Figure size 640x480 with 1 Axes>"
      ]
     },
     "metadata": {},
     "output_type": "display_data"
    },
    {
     "data": {
      "image/png": "[encoded data removed]",
      "text/plain": [
       "<Figure size 640x480 with 1 Axes>"
      ]
     },
     "metadata": {},
     "output_type": "display_data"
    },
    {
     "data": {
      "image/png": "[encoded data removed]",
      "text/plain": [
       "<Figure size 640x480 with 1 Axes>"
      ]
     },
     "metadata": {},
     "output_type": "display_data"
    }
   ],
   "source": [
    "n = 25 #Index of sample\n",
    "reduce_dimension(autoencoder3)"
   ]
  },
  {
   "cell_type": "markdown",
   "id": "d9276491-867f-4976-9e5c-b65781fbaadf",
   "metadata": {},
   "source": [
    "### Rauschentfernung"
   ]
  },
  {
   "cell_type": "code",
   "execution_count": 325,
   "id": "fab1d07b-1e64-496e-811f-a7ed07b3a887",
   "metadata": {},
   "outputs": [
    {
     "name": "stdout",
     "output_type": "stream",
     "text": [
      "1/1 [==============================] - 0s 21ms/step\n",
      "Image with Noise (50.0 % Noise Ratio)\n"
     ]
    },
    {
     "data": {
      "image/png": "[encoded data removed]",
      "text/plain": [
       "<Figure size 640x480 with 1 Axes>"
      ]
     },
     "metadata": {},
     "output_type": "display_data"
    },
    {
     "data": {
      "image/png": "[encoded data removed]",
      "text/plain": [
       "<Figure size 640x480 with 1 Axes>"
      ]
     },
     "metadata": {},
     "output_type": "display_data"
    }
   ],
   "source": [
    "n = 25 #Index of sample\n",
    "noise_ratio = 0.5\n",
    "reduce_noise(noise_ratio, autoencoder3)"
   ]
  },
  {
   "cell_type": "markdown",
   "id": "4837d6f9-e9a2-4d55-8fc7-024fa3a5e480",
   "metadata": {},
   "source": [
    "### Anomaliedetektion"
   ]
  },
  {
   "cell_type": "markdown",
   "id": "9301cdf3-b5f4-4654-b1b4-670d91847ffd",
   "metadata": {},
   "source": [
    "Ohne vorher die Daten zu manipulieren, findet die Anomaliedtetktion einfach den Datenpunkt mit dem größten RE."
   ]
  },
  {
   "cell_type": "code",
   "execution_count": 330,
   "id": "84fd9284-cbbc-470c-84d7-3c49fa03beb8",
   "metadata": {},
   "outputs": [
    {
     "name": "stdout",
     "output_type": "stream",
     "text": [
      "313/313 [==============================] - 3s 10ms/step\n",
      "Our Autoencoder thinks, the test tata at index 5160 stand out. It looks like this\n"
     ]
    },
    {
     "data": {
      "image/png": "[encoded data removed]",
      "text/plain": [
       "<Figure size 640x480 with 1 Axes>"
      ]
     },
     "metadata": {},
     "output_type": "display_data"
    },
    {
     "name": "stdout",
     "output_type": "stream",
     "text": [
      "1/1 [==============================] - 0s 17ms/step\n",
      "It has a the highest reconstructionerrror with RE=0.39112564463364513 and the reconstruction looks like this:\n"
     ]
    },
    {
     "data": {
      "image/png": "[encoded data removed]",
      "text/plain": [
       "<Figure size 640x480 with 1 Axes>"
      ]
     },
     "metadata": {},
     "output_type": "display_data"
    }
   ],
   "source": [
    "find_standout(autoencoder3)"
   ]
  },
  {
   "cell_type": "markdown",
   "id": "28fa124d-027f-4b59-a4db-ec9abe0cc667",
   "metadata": {},
   "source": [
    "Hier können die Daten explizit vorher manipuliert werden, um zu sehen, ob der Autoencoder den manipulierten Datenpunkt finden kann."
   ]
  },
  {
   "cell_type": "code",
   "execution_count": 277,
   "id": "b56a7c7a-1322-498e-804a-789cd3db466d",
   "metadata": {},
   "outputs": [
    {
     "name": "stdout",
     "output_type": "stream",
     "text": [
      "<keras.engine.sequential.Sequential object at 0x7fdd0a38bd00>\n",
      "313/313 [==============================] - 10s 31ms/step\n",
      "1/1 [==============================] - 0s 15ms/step\n",
      "1/1 [==============================] - 0s 16ms/step\n",
      "1/1 [==============================] - 0s 18ms/step\n",
      "Our Autoencoder thinks, that the anomaly seems to be at Index 72 looks like this:\n"
     ]
    },
    {
     "data": {
      "image/png": "[encoded data removed]",
      "text/plain": [
       "<Figure size 640x480 with 1 Axes>"
      ]
     },
     "metadata": {},
     "output_type": "display_data"
    },
    {
     "name": "stdout",
     "output_type": "stream",
     "text": [
      "It has a the highest reconstructionerrror with RE=7384 and the reconstruction(attempt) looks like this:\n"
     ]
    },
    {
     "data": {
      "image/png": "[encoded data removed]",
      "text/plain": [
       "<Figure size 640x480 with 1 Axes>"
      ]
     },
     "metadata": {},
     "output_type": "display_data"
    },
    {
     "name": "stdout",
     "output_type": "stream",
     "text": [
      "AND HE IS RIGHT!\n"
     ]
    },
    {
     "data": {
      "text/plain": [
       "<Figure size 640x480 with 0 Axes>"
      ]
     },
     "metadata": {},
     "output_type": "display_data"
    }
   ],
   "source": [
    "coruption_index = 72 #Index of Sample that gets corrupted\n",
    "wrong_data = \"mnist\" #Source of Corrupted Sample (should be different from data source, but same size)\n",
    "\n",
    "test_anomaly(wrong_data, coruption_index, autoencoder2)"
   ]
  },
  {
   "cell_type": "code",
   "execution_count": null,
   "id": "7bdad35a-5b74-4661-9797-07b790b785b5",
   "metadata": {},
   "outputs": [],
   "source": []
  }
 ],
 "metadata": {
  "kernelspec": {
   "display_name": "Python 3 (ipykernel)",
   "language": "python",
   "name": "python3"
  },
  "language_info": {
   "codemirror_mode": {
    "name": "ipython",
    "version": 3
   },
   "file_extension": ".py",
   "mimetype": "text/x-python",
   "name": "python",
   "nbconvert_exporter": "python",
   "pygments_lexer": "ipython3",
   "version": "3.9.18"
  }
 },
 "nbformat": 4,
 "nbformat_minor": 5
}
